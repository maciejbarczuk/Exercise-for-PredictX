{
 "cells": [
  {
   "cell_type": "code",
   "execution_count": 1,
   "metadata": {},
   "outputs": [],
   "source": [
    "import pandas as pd\n",
    "import math"
   ]
  },
  {
   "cell_type": "code",
   "execution_count": 2,
   "metadata": {},
   "outputs": [
    {
     "data": {
      "text/html": [
       "<div>\n",
       "<style scoped>\n",
       "    .dataframe tbody tr th:only-of-type {\n",
       "        vertical-align: middle;\n",
       "    }\n",
       "\n",
       "    .dataframe tbody tr th {\n",
       "        vertical-align: top;\n",
       "    }\n",
       "\n",
       "    .dataframe thead th {\n",
       "        text-align: right;\n",
       "    }\n",
       "</style>\n",
       "<table border=\"1\" class=\"dataframe\">\n",
       "  <thead>\n",
       "    <tr style=\"text-align: right;\">\n",
       "      <th></th>\n",
       "      <th>Normalised City Pair</th>\n",
       "      <th>Departure Code</th>\n",
       "      <th>Arrival Code</th>\n",
       "      <th>Departure_lat</th>\n",
       "      <th>Departure_lon</th>\n",
       "      <th>Arrival_lat</th>\n",
       "      <th>Arrival_lon</th>\n",
       "    </tr>\n",
       "  </thead>\n",
       "  <tbody>\n",
       "    <tr>\n",
       "      <th>0</th>\n",
       "      <td>London, United Kingdom - New York, United Stat...</td>\n",
       "      <td>LHR</td>\n",
       "      <td>JFK</td>\n",
       "      <td>51.5</td>\n",
       "      <td>-0.45</td>\n",
       "      <td>40.64</td>\n",
       "      <td>-73.79</td>\n",
       "    </tr>\n",
       "    <tr>\n",
       "      <th>1</th>\n",
       "      <td>Johannesburg, South Africa - London, United Ki...</td>\n",
       "      <td>JNB</td>\n",
       "      <td>LHR</td>\n",
       "      <td>-26.1</td>\n",
       "      <td>28.23</td>\n",
       "      <td>51.47</td>\n",
       "      <td>-0.45</td>\n",
       "    </tr>\n",
       "    <tr>\n",
       "      <th>2</th>\n",
       "      <td>London, United Kingdom - New York, United Stat...</td>\n",
       "      <td>LHR</td>\n",
       "      <td>JFK</td>\n",
       "      <td>51.5</td>\n",
       "      <td>-0.45</td>\n",
       "      <td>40.64</td>\n",
       "      <td>-73.79</td>\n",
       "    </tr>\n",
       "    <tr>\n",
       "      <th>3</th>\n",
       "      <td>Johannesburg, South Africa - London, United Ki...</td>\n",
       "      <td>JNB</td>\n",
       "      <td>LHR</td>\n",
       "      <td>-26.1</td>\n",
       "      <td>28.23</td>\n",
       "      <td>51.47</td>\n",
       "      <td>-0.45</td>\n",
       "    </tr>\n",
       "    <tr>\n",
       "      <th>4</th>\n",
       "      <td>London, United Kingdom - Singapore, Singapore</td>\n",
       "      <td>SIN</td>\n",
       "      <td>LHR</td>\n",
       "      <td>1.3</td>\n",
       "      <td>103.98</td>\n",
       "      <td>51.47</td>\n",
       "      <td>-0.45</td>\n",
       "    </tr>\n",
       "  </tbody>\n",
       "</table>\n",
       "</div>"
      ],
      "text/plain": [
       "                                Normalised City Pair Departure Code  \\\n",
       "0  London, United Kingdom - New York, United Stat...            LHR   \n",
       "1  Johannesburg, South Africa - London, United Ki...            JNB   \n",
       "2  London, United Kingdom - New York, United Stat...            LHR   \n",
       "3  Johannesburg, South Africa - London, United Ki...            JNB   \n",
       "4      London, United Kingdom - Singapore, Singapore            SIN   \n",
       "\n",
       "  Arrival Code  Departure_lat  Departure_lon  Arrival_lat  Arrival_lon  \n",
       "0          JFK           51.5          -0.45        40.64       -73.79  \n",
       "1          LHR          -26.1          28.23        51.47        -0.45  \n",
       "2          JFK           51.5          -0.45        40.64       -73.79  \n",
       "3          LHR          -26.1          28.23        51.47        -0.45  \n",
       "4          LHR            1.3         103.98        51.47        -0.45  "
      ]
     },
     "execution_count": 2,
     "metadata": {},
     "output_type": "execute_result"
    }
   ],
   "source": [
    "df = pd.read_csv(\"FlightDistanceTest.csv\")\n",
    "df.head()"
   ]
  },
  {
   "cell_type": "code",
   "execution_count": 3,
   "metadata": {},
   "outputs": [
    {
     "name": "stdout",
     "output_type": "stream",
     "text": [
      "<class 'pandas.core.frame.DataFrame'>\n",
      "RangeIndex: 3000 entries, 0 to 2999\n",
      "Data columns (total 7 columns):\n",
      " #   Column                Non-Null Count  Dtype  \n",
      "---  ------                --------------  -----  \n",
      " 0   Normalised City Pair  3000 non-null   object \n",
      " 1   Departure Code        3000 non-null   object \n",
      " 2   Arrival Code          3000 non-null   object \n",
      " 3   Departure_lat         3000 non-null   float64\n",
      " 4   Departure_lon         3000 non-null   float64\n",
      " 5   Arrival_lat           3000 non-null   float64\n",
      " 6   Arrival_lon           3000 non-null   float64\n",
      "dtypes: float64(4), object(3)\n",
      "memory usage: 164.2+ KB\n"
     ]
    }
   ],
   "source": [
    "df.info()"
   ]
  },
  {
   "cell_type": "markdown",
   "metadata": {},
   "source": [
    "Prepare arguments to count the distance"
   ]
  },
  {
   "cell_type": "code",
   "execution_count": 4,
   "metadata": {},
   "outputs": [],
   "source": [
    "d_lat = df[\"Departure_lat\"]\n",
    "d_lon = df[\"Departure_lon\"]\n",
    "a_lat = df[\"Arrival_lat\"]\n",
    "a_lon = df[\"Arrival_lon\"]\n",
    "dep = df['Departure Code']\n",
    "arr = df['Arrival Code']"
   ]
  },
  {
   "cell_type": "markdown",
   "metadata": {},
   "source": [
    "Prepare the functions"
   ]
  },
  {
   "cell_type": "code",
   "execution_count": 5,
   "metadata": {},
   "outputs": [],
   "source": [
    "def count_dist(a_lat, d_lat, a_lon, d_lon):\n",
    "    dist_lat = a_lat - d_lat\n",
    "    dist_lon = a_lon - d_lon\n",
    "\n",
    "    dist = dist_lat * dist_lat + dist_lon * dist_lon\n",
    "    dist = math.sqrt(dist)\n",
    "    return round(dist, 2)\n",
    "\n",
    "def make_key(dep, arr):\n",
    "    new_key = dep + \"_\" + arr\n",
    "    return str(new_key)\n",
    "\n",
    "        \n",
    "def check_list(list):\n",
    "    if len(list) == 2:\n",
    "        if list[0] == list[1]:\n",
    "            return True\n",
    "        else:\n",
    "            return False\n",
    "    else:\n",
    "        for i in range(1, len(list)):\n",
    "            if list [0] != list[i]:\n",
    "                return False"
   ]
  },
  {
   "cell_type": "markdown",
   "metadata": {},
   "source": [
    "Counting distance for every journey"
   ]
  },
  {
   "cell_type": "code",
   "execution_count": 6,
   "metadata": {},
   "outputs": [],
   "source": [
    "dict = {}\n",
    "key_list = []\n",
    "\n",
    "for i in range(0, len(df)-1):\n",
    "    key = make_key(dep[i], arr[i])\n",
    "    dist = count_dist(a_lat[i], d_lat[i], a_lon[i], d_lon[i])\n",
    "    if key in dict:\n",
    "        dict[key].append(dist)\n",
    "    else:\n",
    "        dict[key] = [dist]\n",
    "        key_list.append(key)"
   ]
  },
  {
   "cell_type": "markdown",
   "metadata": {},
   "source": [
    "Finding errors in database"
   ]
  },
  {
   "cell_type": "code",
   "execution_count": 8,
   "metadata": {
    "scrolled": true
   },
   "outputs": [
    {
     "data": {
      "text/plain": [
       "{'LHR_MAA': [89.37, 15.93],\n",
       " 'JNB_CAI': [56.23, 24.56],\n",
       " 'JFK_JNB': [82.76, 121.91],\n",
       " 'SAN_LHR': [74.14, 97.29],\n",
       " 'AUH_LHR': [58.22, 61.38, 61.38],\n",
       " 'LHR_MEX': [103.79, 108.98],\n",
       " 'BOM_JFK': [74.14, 148.22],\n",
       " 'EBB_LHR': [64.6, 61.08],\n",
       " 'SIN_JFK': [130.05, 182.07, 182.07, 182.07],\n",
       " 'JNB_BOM': [63.51, 18.58, 63.51],\n",
       " 'EWR_GLA': [71.38, 5.9],\n",
       " 'LHR_BLR': [87.16, 25.56, 87.16],\n",
       " 'JFK_SYD': [277.92, 237.04, 237.04],\n",
       " 'JFK_TLV': [109.02, 40.36],\n",
       " 'JFK_GVA': [80.1, 8.41],\n",
       " 'SIN_JNB': [80.56, 80.56, 58.14, 80.56],\n",
       " 'FRA_JFK': [82.89, 74.14],\n",
       " 'JNB_SEZ': [34.69, 19.01],\n",
       " 'LHR_CGK': [29.35, 63.43],\n",
       " 'LHR_AUS': [11.47, 2.77],\n",
       " 'AMS_JFK': [79.4, 74.14],\n",
       " 'MIA_SFO': [12.27, 28.1],\n",
       " 'CHO_ATL': [7.8, 8.16],\n",
       " 'MAA_LHR': [89.34, 61.63],\n",
       " 'GVA_RUH': [45.7, 45.83],\n",
       " 'GBE_NBO': [25.73, 26.26],\n",
       " 'ZRH_ICN': [118.52, 118.78],\n",
       " 'GRU_ORD': [14.48, 83.52],\n",
       " 'SIN_NBO': [32.41, 30.4],\n",
       " 'ZRH_HKG': [108.34, 108.98],\n",
       " 'ICN_ZRH': [3.31, 2.65, 2.65],\n",
       " 'JFK_CGK': [7.9, 29.35],\n",
       " 'TPE_JFK': [188.62, 195.65],\n",
       " 'GRU_MXP': [19.49, 2.12],\n",
       " 'SFO_ZRH': [131.33, 2.65],\n",
       " 'JFK_DME': [38.55, 30.38],\n",
       " 'HKG_BOS': [27.94, 51.6]}"
      ]
     },
     "execution_count": 8,
     "metadata": {},
     "output_type": "execute_result"
    }
   ],
   "source": [
    "error_dict = {}\n",
    "\n",
    "for i in key_list:\n",
    "    if check_list(dict[i]) == False:\n",
    "        error_dict[i] = dict[i]\n",
    "\n",
    "error_dict"
   ]
  }
 ],
 "metadata": {
  "kernelspec": {
   "display_name": "Python 3",
   "language": "python",
   "name": "python3"
  },
  "language_info": {
   "codemirror_mode": {
    "name": "ipython",
    "version": 3
   },
   "file_extension": ".py",
   "mimetype": "text/x-python",
   "name": "python",
   "nbconvert_exporter": "python",
   "pygments_lexer": "ipython3",
   "version": "3.7.9"
  }
 },
 "nbformat": 4,
 "nbformat_minor": 4
}
